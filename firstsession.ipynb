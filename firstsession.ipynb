{
  "nbformat": 4,
  "nbformat_minor": 0,
  "metadata": {
    "colab": {
      "name": "firstsession.ipynb",
      "provenance": [],
      "collapsed_sections": [],
      "authorship_tag": "ABX9TyMiG8EZe2WIW8ZQ3t5s0p8y",
      "include_colab_link": true
    },
    "kernelspec": {
      "name": "python3",
      "display_name": "Python 3"
    }
  },
  "cells": [
    {
      "cell_type": "markdown",
      "metadata": {
        "id": "view-in-github",
        "colab_type": "text"
      },
      "source": [
        "<a href=\"https://colab.research.google.com/github/sushmithapoojary/workshoprepo/blob/master/firstsession.ipynb\" target=\"_parent\"><img src=\"https://colab.research.google.com/assets/colab-badge.svg\" alt=\"Open In Colab\"/></a>"
      ]
    },
    {
      "cell_type": "code",
      "metadata": {
        "id": "14teJ5cC_-BY",
        "colab_type": "code",
        "colab": {}
      },
      "source": [
        ""
      ],
      "execution_count": 0,
      "outputs": []
    },
    {
      "cell_type": "code",
      "metadata": {
        "id": "atYhJi5xAD2o",
        "colab_type": "code",
        "colab": {
          "base_uri": "https://localhost:8080/",
          "height": 129
        },
        "outputId": "d6894100-6b58-406d-86a8-5458163f06c9"
      },
      "source": [
        "for i in range[10]i\n",
        "print [i]"
      ],
      "execution_count": 2,
      "outputs": [
        {
          "output_type": "error",
          "ename": "SyntaxError",
          "evalue": "ignored",
          "traceback": [
            "\u001b[0;36m  File \u001b[0;32m\"<ipython-input-2-0d8acf6ffe47>\"\u001b[0;36m, line \u001b[0;32m1\u001b[0m\n\u001b[0;31m    for i in range[10]i\u001b[0m\n\u001b[0m                      ^\u001b[0m\n\u001b[0;31mSyntaxError\u001b[0m\u001b[0;31m:\u001b[0m invalid syntax\n"
          ]
        }
      ]
    },
    {
      "cell_type": "markdown",
      "metadata": {
        "id": "JjKCaU2rAeOu",
        "colab_type": "text"
      },
      "source": [
        "#this is my first code\n",
        "#this is sub-heading\n",
        "#this is paragraph\n",
        "*hgjhaghdgd*\n",
        "``this``\n",
        "~~this~~\n",
        "$$\n",
        "\n",
        "\\int_0 ~infty x^2dx\n",
        "\n",
        "to create checkbox\n",
        "\n"
      ]
    },
    {
      "cell_type": "markdown",
      "metadata": {
        "id": "RuPGA7uSBRc7",
        "colab_type": "text"
      },
      "source": [
        "$$x^2\n",
        "$$x<2\n",
        "\n",
        "\n",
        "- [x] Task 1\n",
        "- [x\n",
        "] Task 2\n"
      ]
    }
  ]
}